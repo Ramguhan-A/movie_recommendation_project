{
 "cells": [
  {
   "cell_type": "markdown",
   "id": "cf65f4ce-a342-4273-b7cd-ca9202be1a99",
   "metadata": {},
   "source": [
    "# Movie Dataset Basic Data Exploration:"
   ]
  },
  {
   "cell_type": "markdown",
   "id": "66bade39-d73d-49aa-a3c9-43597e0487de",
   "metadata": {},
   "source": [
    "## 1. Importing Libraries and Data"
   ]
  },
  {
   "cell_type": "code",
   "execution_count": 45,
   "id": "fc51c9df-ee4e-4995-9e9a-6e3c6d44f1d8",
   "metadata": {},
   "outputs": [],
   "source": [
    "import pandas as pd\n",
    "import numpy as np"
   ]
  },
  {
   "cell_type": "code",
   "execution_count": 4,
   "id": "f1a21fef-fa21-4a46-b231-a72501356009",
   "metadata": {},
   "outputs": [
    {
     "data": {
      "text/html": [
       "<div>\n",
       "<style scoped>\n",
       "    .dataframe tbody tr th:only-of-type {\n",
       "        vertical-align: middle;\n",
       "    }\n",
       "\n",
       "    .dataframe tbody tr th {\n",
       "        vertical-align: top;\n",
       "    }\n",
       "\n",
       "    .dataframe thead th {\n",
       "        text-align: right;\n",
       "    }\n",
       "</style>\n",
       "<table border=\"1\" class=\"dataframe\">\n",
       "  <thead>\n",
       "    <tr style=\"text-align: right;\">\n",
       "      <th></th>\n",
       "      <th>id</th>\n",
       "      <th>title</th>\n",
       "      <th>genre</th>\n",
       "      <th>original_language</th>\n",
       "      <th>overview</th>\n",
       "      <th>popularity</th>\n",
       "      <th>release_date</th>\n",
       "      <th>vote_average</th>\n",
       "      <th>vote_count</th>\n",
       "    </tr>\n",
       "  </thead>\n",
       "  <tbody>\n",
       "    <tr>\n",
       "      <th>0</th>\n",
       "      <td>278</td>\n",
       "      <td>The Shawshank Redemption</td>\n",
       "      <td>Drama,Crime</td>\n",
       "      <td>en</td>\n",
       "      <td>Framed in the 1940s for the double murder of h...</td>\n",
       "      <td>94.075</td>\n",
       "      <td>23-09-1994</td>\n",
       "      <td>8.7</td>\n",
       "      <td>21862</td>\n",
       "    </tr>\n",
       "    <tr>\n",
       "      <th>1</th>\n",
       "      <td>19404</td>\n",
       "      <td>Dilwale Dulhania Le Jayenge</td>\n",
       "      <td>Comedy,Drama,Romance</td>\n",
       "      <td>hi</td>\n",
       "      <td>Raj is a rich, carefree, happy-go-lucky second...</td>\n",
       "      <td>25.408</td>\n",
       "      <td>19-10-1995</td>\n",
       "      <td>8.7</td>\n",
       "      <td>3731</td>\n",
       "    </tr>\n",
       "    <tr>\n",
       "      <th>2</th>\n",
       "      <td>238</td>\n",
       "      <td>The Godfather</td>\n",
       "      <td>Drama,Crime</td>\n",
       "      <td>en</td>\n",
       "      <td>Spanning the years 1945 to 1955, a chronicle o...</td>\n",
       "      <td>90.585</td>\n",
       "      <td>14-03-1972</td>\n",
       "      <td>8.7</td>\n",
       "      <td>16280</td>\n",
       "    </tr>\n",
       "    <tr>\n",
       "      <th>3</th>\n",
       "      <td>424</td>\n",
       "      <td>Schindler's List</td>\n",
       "      <td>Drama,History,War</td>\n",
       "      <td>en</td>\n",
       "      <td>The true story of how businessman Oskar Schind...</td>\n",
       "      <td>44.761</td>\n",
       "      <td>15-12-1993</td>\n",
       "      <td>8.6</td>\n",
       "      <td>12959</td>\n",
       "    </tr>\n",
       "    <tr>\n",
       "      <th>4</th>\n",
       "      <td>240</td>\n",
       "      <td>The Godfather: Part II</td>\n",
       "      <td>Drama,Crime</td>\n",
       "      <td>en</td>\n",
       "      <td>In the continuing saga of the Corleone crime f...</td>\n",
       "      <td>57.749</td>\n",
       "      <td>20-12-1974</td>\n",
       "      <td>8.6</td>\n",
       "      <td>9811</td>\n",
       "    </tr>\n",
       "  </tbody>\n",
       "</table>\n",
       "</div>"
      ],
      "text/plain": [
       "      id                        title                 genre original_language  \\\n",
       "0    278     The Shawshank Redemption           Drama,Crime                en   \n",
       "1  19404  Dilwale Dulhania Le Jayenge  Comedy,Drama,Romance                hi   \n",
       "2    238                The Godfather           Drama,Crime                en   \n",
       "3    424             Schindler's List     Drama,History,War                en   \n",
       "4    240       The Godfather: Part II           Drama,Crime                en   \n",
       "\n",
       "                                            overview  popularity release_date  \\\n",
       "0  Framed in the 1940s for the double murder of h...      94.075   23-09-1994   \n",
       "1  Raj is a rich, carefree, happy-go-lucky second...      25.408   19-10-1995   \n",
       "2  Spanning the years 1945 to 1955, a chronicle o...      90.585   14-03-1972   \n",
       "3  The true story of how businessman Oskar Schind...      44.761   15-12-1993   \n",
       "4  In the continuing saga of the Corleone crime f...      57.749   20-12-1974   \n",
       "\n",
       "   vote_average  vote_count  \n",
       "0           8.7       21862  \n",
       "1           8.7        3731  \n",
       "2           8.7       16280  \n",
       "3           8.6       12959  \n",
       "4           8.6        9811  "
      ]
     },
     "execution_count": 4,
     "metadata": {},
     "output_type": "execute_result"
    }
   ],
   "source": [
    "df = pd.read_csv(r\"D:\\My_project_dataset\\Recommendation system (movie)\\Movies dataset\\dataset.csv\", encoding=\"utf-8\")\n",
    "df.head()"
   ]
  },
  {
   "cell_type": "code",
   "execution_count": 5,
   "id": "e48c2e4b-7756-4255-8133-1ac4ffb9f75d",
   "metadata": {},
   "outputs": [
    {
     "data": {
      "text/plain": [
       "(10020, 9)"
      ]
     },
     "execution_count": 5,
     "metadata": {},
     "output_type": "execute_result"
    }
   ],
   "source": [
    "df.shape"
   ]
  },
  {
   "cell_type": "code",
   "execution_count": 6,
   "id": "9cdeb2b0-aca8-41f5-88d3-44d2f6d6c07c",
   "metadata": {},
   "outputs": [
    {
     "name": "stdout",
     "output_type": "stream",
     "text": [
      "<class 'pandas.core.frame.DataFrame'>\n",
      "RangeIndex: 10020 entries, 0 to 10019\n",
      "Data columns (total 9 columns):\n",
      " #   Column             Non-Null Count  Dtype  \n",
      "---  ------             --------------  -----  \n",
      " 0   id                 10020 non-null  int64  \n",
      " 1   title              10020 non-null  object \n",
      " 2   genre              10017 non-null  object \n",
      " 3   original_language  10020 non-null  object \n",
      " 4   overview           10007 non-null  object \n",
      " 5   popularity         10020 non-null  float64\n",
      " 6   release_date       10020 non-null  object \n",
      " 7   vote_average       10020 non-null  float64\n",
      " 8   vote_count         10020 non-null  int64  \n",
      "dtypes: float64(2), int64(2), object(5)\n",
      "memory usage: 704.7+ KB\n"
     ]
    }
   ],
   "source": [
    "df.info()"
   ]
  },
  {
   "cell_type": "code",
   "execution_count": 7,
   "id": "b6949699-faba-4aa7-b854-a370ccc24050",
   "metadata": {},
   "outputs": [
    {
     "data": {
      "text/plain": [
       "Index(['id', 'title', 'genre', 'original_language', 'overview', 'popularity',\n",
       "       'release_date', 'vote_average', 'vote_count'],\n",
       "      dtype='object')"
      ]
     },
     "execution_count": 7,
     "metadata": {},
     "output_type": "execute_result"
    }
   ],
   "source": [
    "df.columns"
   ]
  },
  {
   "cell_type": "markdown",
   "id": "ad4894e7-0c91-44db-b9c8-2d8d0857d38b",
   "metadata": {},
   "source": [
    "## 2. Basic Data Exploration"
   ]
  },
  {
   "cell_type": "markdown",
   "id": "4c3b1d20-3c0c-48a2-b46b-89f769ec7cea",
   "metadata": {},
   "source": [
    "### 2.1 Most recent releases"
   ]
  },
  {
   "cell_type": "code",
   "execution_count": 8,
   "id": "07dc985c-7766-436d-ba17-5e4b54bcc5e8",
   "metadata": {},
   "outputs": [],
   "source": [
    "df['release_date'] = pd.to_datetime(df['release_date'],dayfirst=True)"
   ]
  },
  {
   "cell_type": "code",
   "execution_count": 15,
   "id": "013e1386-a176-47f9-984c-2261aaa6451e",
   "metadata": {},
   "outputs": [
    {
     "data": {
      "text/plain": [
       "title\n",
       "Avatar 3                                           2025-12-19\n",
       "Dune: Messiah                                      2025-07-18\n",
       "Mission: Impossible - The Final Reckoning          2025-05-23\n",
       "The Batman: Part II                                2025-01-24\n",
       "Gladiator II                                       2024-11-22\n",
       "                                                      ...    \n",
       "The Cabinet of Dr. Caligari                        1920-02-27\n",
       "A Dog's Life                                       1918-04-14\n",
       "Intolerance: Love's Struggle Throughout the Ages   1916-09-04\n",
       "The Great Train Robbery                            1903-12-07\n",
       "A Trip to the Moon                                 1902-04-17\n",
       "Name: release_date, Length: 9681, dtype: datetime64[ns]"
      ]
     },
     "execution_count": 15,
     "metadata": {},
     "output_type": "execute_result"
    }
   ],
   "source": [
    "most_recent= df.groupby('title')['release_date'].max()\n",
    "most_recent.sort_values(ascending=False)"
   ]
  },
  {
   "cell_type": "markdown",
   "id": "e1ce5118-f9ab-4cfd-8885-71468cfdc7b5",
   "metadata": {},
   "source": [
    "### Observation:\n",
    "<font size=+1> In this dataset we can observe that some of the upcoming 2025 movies like Avatar 3, Dune: Messiah and Mission: Impossible - The Final Reckoning. </font>\n"
   ]
  },
  {
   "cell_type": "code",
   "execution_count": 17,
   "id": "ff196c47-7e68-43b6-b201-75e7349f9d88",
   "metadata": {},
   "outputs": [],
   "source": [
    "df['release_year'] = df['release_date'].dt.year"
   ]
  },
  {
   "cell_type": "code",
   "execution_count": 19,
   "id": "164a6bc5-7927-4992-a1e5-15914366f8ae",
   "metadata": {},
   "outputs": [
    {
     "data": {
      "text/html": [
       "<div>\n",
       "<style scoped>\n",
       "    .dataframe tbody tr th:only-of-type {\n",
       "        vertical-align: middle;\n",
       "    }\n",
       "\n",
       "    .dataframe tbody tr th {\n",
       "        vertical-align: top;\n",
       "    }\n",
       "\n",
       "    .dataframe thead th {\n",
       "        text-align: right;\n",
       "    }\n",
       "</style>\n",
       "<table border=\"1\" class=\"dataframe\">\n",
       "  <thead>\n",
       "    <tr style=\"text-align: right;\">\n",
       "      <th></th>\n",
       "      <th>id</th>\n",
       "      <th>title</th>\n",
       "      <th>genre</th>\n",
       "      <th>original_language</th>\n",
       "      <th>overview</th>\n",
       "      <th>popularity</th>\n",
       "      <th>release_date</th>\n",
       "      <th>vote_average</th>\n",
       "      <th>vote_count</th>\n",
       "      <th>release_year</th>\n",
       "    </tr>\n",
       "  </thead>\n",
       "  <tbody>\n",
       "    <tr>\n",
       "      <th>0</th>\n",
       "      <td>278</td>\n",
       "      <td>The Shawshank Redemption</td>\n",
       "      <td>Drama,Crime</td>\n",
       "      <td>en</td>\n",
       "      <td>Framed in the 1940s for the double murder of h...</td>\n",
       "      <td>94.075</td>\n",
       "      <td>1994-09-23</td>\n",
       "      <td>8.7</td>\n",
       "      <td>21862</td>\n",
       "      <td>1994</td>\n",
       "    </tr>\n",
       "    <tr>\n",
       "      <th>1</th>\n",
       "      <td>19404</td>\n",
       "      <td>Dilwale Dulhania Le Jayenge</td>\n",
       "      <td>Comedy,Drama,Romance</td>\n",
       "      <td>hi</td>\n",
       "      <td>Raj is a rich, carefree, happy-go-lucky second...</td>\n",
       "      <td>25.408</td>\n",
       "      <td>1995-10-19</td>\n",
       "      <td>8.7</td>\n",
       "      <td>3731</td>\n",
       "      <td>1995</td>\n",
       "    </tr>\n",
       "  </tbody>\n",
       "</table>\n",
       "</div>"
      ],
      "text/plain": [
       "      id                        title                 genre original_language  \\\n",
       "0    278     The Shawshank Redemption           Drama,Crime                en   \n",
       "1  19404  Dilwale Dulhania Le Jayenge  Comedy,Drama,Romance                hi   \n",
       "\n",
       "                                            overview  popularity release_date  \\\n",
       "0  Framed in the 1940s for the double murder of h...      94.075   1994-09-23   \n",
       "1  Raj is a rich, carefree, happy-go-lucky second...      25.408   1995-10-19   \n",
       "\n",
       "   vote_average  vote_count  release_year  \n",
       "0           8.7       21862          1994  \n",
       "1           8.7        3731          1995  "
      ]
     },
     "execution_count": 19,
     "metadata": {},
     "output_type": "execute_result"
    }
   ],
   "source": [
    "df.head(2)"
   ]
  },
  {
   "cell_type": "code",
   "execution_count": 21,
   "id": "a14aca9b-72fd-42b0-a8b7-78c993a74d29",
   "metadata": {},
   "outputs": [
    {
     "data": {
      "text/plain": [
       "release_year\n",
       "2015    402\n",
       "2016    434\n",
       "2017    464\n",
       "2018    469\n",
       "2019    426\n",
       "2020    330\n",
       "2021    305\n",
       "2022     81\n",
       "2023      7\n",
       "2024      9\n",
       "2025      4\n",
       "dtype: int64"
      ]
     },
     "execution_count": 21,
     "metadata": {},
     "output_type": "execute_result"
    }
   ],
   "source": [
    "movies_2015 = df[df['release_year']>=2015]\n",
    "movies_per_year = movies_2015.groupby('release_year').size()\n",
    "movies_per_year"
   ]
  },
  {
   "cell_type": "markdown",
   "id": "61762922-e15a-4a53-bddd-5f848a83f8ea",
   "metadata": {},
   "source": [
    "### Observation:\n",
    "<font size=+1> In this dataset we have very limited movies after 2022 </font>"
   ]
  },
  {
   "cell_type": "code",
   "execution_count": 43,
   "id": "7e696f65-6dda-4cc2-a657-98f65130e907",
   "metadata": {},
   "outputs": [
    {
     "data": {
      "text/html": [
       "<div>\n",
       "<style scoped>\n",
       "    .dataframe tbody tr th:only-of-type {\n",
       "        vertical-align: middle;\n",
       "    }\n",
       "\n",
       "    .dataframe tbody tr th {\n",
       "        vertical-align: top;\n",
       "    }\n",
       "\n",
       "    .dataframe thead th {\n",
       "        text-align: right;\n",
       "    }\n",
       "</style>\n",
       "<table border=\"1\" class=\"dataframe\">\n",
       "  <thead>\n",
       "    <tr style=\"text-align: right;\">\n",
       "      <th></th>\n",
       "      <th>title</th>\n",
       "      <th>genre</th>\n",
       "      <th>popularity</th>\n",
       "    </tr>\n",
       "  </thead>\n",
       "  <tbody>\n",
       "    <tr>\n",
       "      <th>3066</th>\n",
       "      <td>Jurassic World Dominion</td>\n",
       "      <td>Adventure,Action,Science Fiction</td>\n",
       "      <td>10436.917</td>\n",
       "    </tr>\n",
       "    <tr>\n",
       "      <th>1337</th>\n",
       "      <td>Minions: The Rise of Gru</td>\n",
       "      <td>Family,Animation,Adventure,Comedy,Fantasy</td>\n",
       "      <td>8821.801</td>\n",
       "    </tr>\n",
       "    <tr>\n",
       "      <th>4522</th>\n",
       "      <td>Thor: Love and Thunder</td>\n",
       "      <td>Action,Adventure,Fantasy</td>\n",
       "      <td>8772.151</td>\n",
       "    </tr>\n",
       "    <tr>\n",
       "      <th>61</th>\n",
       "      <td>Top Gun: Maverick</td>\n",
       "      <td>Action,Drama</td>\n",
       "      <td>7567.017</td>\n",
       "    </tr>\n",
       "    <tr>\n",
       "      <th>388</th>\n",
       "      <td>The Black Phone</td>\n",
       "      <td>Horror,Thriller</td>\n",
       "      <td>5278.336</td>\n",
       "    </tr>\n",
       "    <tr>\n",
       "      <th>1990</th>\n",
       "      <td>Lightyear</td>\n",
       "      <td>Animation,Science Fiction,Adventure,Action,Family</td>\n",
       "      <td>5255.930</td>\n",
       "    </tr>\n",
       "    <tr>\n",
       "      <th>1313</th>\n",
       "      <td>Doctor Strange in the Multiverse of Madness</td>\n",
       "      <td>Fantasy,Action,Adventure</td>\n",
       "      <td>4289.605</td>\n",
       "    </tr>\n",
       "    <tr>\n",
       "      <th>2815</th>\n",
       "      <td>The Princess</td>\n",
       "      <td>Fantasy,Action</td>\n",
       "      <td>2456.150</td>\n",
       "    </tr>\n",
       "    <tr>\n",
       "      <th>3103</th>\n",
       "      <td>The Exorcism of God</td>\n",
       "      <td>Horror</td>\n",
       "      <td>1837.940</td>\n",
       "    </tr>\n",
       "    <tr>\n",
       "      <th>948</th>\n",
       "      <td>The Sea Beast</td>\n",
       "      <td>Animation,Adventure,Family,Fantasy</td>\n",
       "      <td>1723.363</td>\n",
       "    </tr>\n",
       "  </tbody>\n",
       "</table>\n",
       "</div>"
      ],
      "text/plain": [
       "                                            title  \\\n",
       "3066                      Jurassic World Dominion   \n",
       "1337                     Minions: The Rise of Gru   \n",
       "4522                       Thor: Love and Thunder   \n",
       "61                              Top Gun: Maverick   \n",
       "388                               The Black Phone   \n",
       "1990                                    Lightyear   \n",
       "1313  Doctor Strange in the Multiverse of Madness   \n",
       "2815                                 The Princess   \n",
       "3103                          The Exorcism of God   \n",
       "948                                 The Sea Beast   \n",
       "\n",
       "                                                  genre  popularity  \n",
       "3066                   Adventure,Action,Science Fiction   10436.917  \n",
       "1337          Family,Animation,Adventure,Comedy,Fantasy    8821.801  \n",
       "4522                           Action,Adventure,Fantasy    8772.151  \n",
       "61                                         Action,Drama    7567.017  \n",
       "388                                     Horror,Thriller    5278.336  \n",
       "1990  Animation,Science Fiction,Adventure,Action,Family    5255.930  \n",
       "1313                           Fantasy,Action,Adventure    4289.605  \n",
       "2815                                     Fantasy,Action    2456.150  \n",
       "3103                                             Horror    1837.940  \n",
       "948                  Animation,Adventure,Family,Fantasy    1723.363  "
      ]
     },
     "execution_count": 43,
     "metadata": {},
     "output_type": "execute_result"
    }
   ],
   "source": [
    "High_popularity = df[df[\"popularity\"]>95]\n",
    "High_popularity_sorted = High_popularity.sort_values(by = \"popularity\", ascending=False)\n",
    "High_popularity_sorted[['title','genre','popularity']].head(10)"
   ]
  },
  {
   "cell_type": "markdown",
   "id": "019681dc-c919-4891-bea6-5221d21e038e",
   "metadata": {},
   "source": [
    "### Observation:\n",
    "<font size=+1> Jurassic world Dominion has the more popularity among the other movies </font>"
   ]
  },
  {
   "cell_type": "markdown",
   "id": "2d8c2742-2e10-4320-87f8-584aadaa9157",
   "metadata": {},
   "source": [
    "## 3. Merging the genre column and overview column for vectorization "
   ]
  },
  {
   "cell_type": "code",
   "execution_count": 178,
   "id": "02077fbc-f33a-4016-9ae8-0a26b60ee9a2",
   "metadata": {},
   "outputs": [],
   "source": [
    "df[\"tags\"] = df['genre'].str.cat(df['overview'],sep=', ')"
   ]
  },
  {
   "cell_type": "code",
   "execution_count": 179,
   "id": "1fe8352f-41c4-4fc8-9828-0a37e24fc7d1",
   "metadata": {},
   "outputs": [
    {
     "data": {
      "text/html": [
       "<div>\n",
       "<style scoped>\n",
       "    .dataframe tbody tr th:only-of-type {\n",
       "        vertical-align: middle;\n",
       "    }\n",
       "\n",
       "    .dataframe tbody tr th {\n",
       "        vertical-align: top;\n",
       "    }\n",
       "\n",
       "    .dataframe thead th {\n",
       "        text-align: right;\n",
       "    }\n",
       "</style>\n",
       "<table border=\"1\" class=\"dataframe\">\n",
       "  <thead>\n",
       "    <tr style=\"text-align: right;\">\n",
       "      <th></th>\n",
       "      <th>id</th>\n",
       "      <th>title</th>\n",
       "      <th>genre</th>\n",
       "      <th>original_language</th>\n",
       "      <th>overview</th>\n",
       "      <th>popularity</th>\n",
       "      <th>release_date</th>\n",
       "      <th>vote_average</th>\n",
       "      <th>vote_count</th>\n",
       "      <th>release_year</th>\n",
       "      <th>tags</th>\n",
       "    </tr>\n",
       "  </thead>\n",
       "  <tbody>\n",
       "    <tr>\n",
       "      <th>0</th>\n",
       "      <td>278</td>\n",
       "      <td>The Shawshank Redemption</td>\n",
       "      <td>Drama,Crime</td>\n",
       "      <td>en</td>\n",
       "      <td>Framed in the 1940s for the double murder of h...</td>\n",
       "      <td>94.075</td>\n",
       "      <td>1994-09-23</td>\n",
       "      <td>8.7</td>\n",
       "      <td>21862</td>\n",
       "      <td>1994</td>\n",
       "      <td>Drama,Crime, Framed in the 1940s for the doubl...</td>\n",
       "    </tr>\n",
       "    <tr>\n",
       "      <th>1</th>\n",
       "      <td>19404</td>\n",
       "      <td>Dilwale Dulhania Le Jayenge</td>\n",
       "      <td>Comedy,Drama,Romance</td>\n",
       "      <td>hi</td>\n",
       "      <td>Raj is a rich, carefree, happy-go-lucky second...</td>\n",
       "      <td>25.408</td>\n",
       "      <td>1995-10-19</td>\n",
       "      <td>8.7</td>\n",
       "      <td>3731</td>\n",
       "      <td>1995</td>\n",
       "      <td>Comedy,Drama,Romance, Raj is a rich, carefree,...</td>\n",
       "    </tr>\n",
       "    <tr>\n",
       "      <th>2</th>\n",
       "      <td>238</td>\n",
       "      <td>The Godfather</td>\n",
       "      <td>Drama,Crime</td>\n",
       "      <td>en</td>\n",
       "      <td>Spanning the years 1945 to 1955, a chronicle o...</td>\n",
       "      <td>90.585</td>\n",
       "      <td>1972-03-14</td>\n",
       "      <td>8.7</td>\n",
       "      <td>16280</td>\n",
       "      <td>1972</td>\n",
       "      <td>Drama,Crime, Spanning the years 1945 to 1955, ...</td>\n",
       "    </tr>\n",
       "    <tr>\n",
       "      <th>3</th>\n",
       "      <td>424</td>\n",
       "      <td>Schindler's List</td>\n",
       "      <td>Drama,History,War</td>\n",
       "      <td>en</td>\n",
       "      <td>The true story of how businessman Oskar Schind...</td>\n",
       "      <td>44.761</td>\n",
       "      <td>1993-12-15</td>\n",
       "      <td>8.6</td>\n",
       "      <td>12959</td>\n",
       "      <td>1993</td>\n",
       "      <td>Drama,History,War, The true story of how busin...</td>\n",
       "    </tr>\n",
       "    <tr>\n",
       "      <th>4</th>\n",
       "      <td>240</td>\n",
       "      <td>The Godfather: Part II</td>\n",
       "      <td>Drama,Crime</td>\n",
       "      <td>en</td>\n",
       "      <td>In the continuing saga of the Corleone crime f...</td>\n",
       "      <td>57.749</td>\n",
       "      <td>1974-12-20</td>\n",
       "      <td>8.6</td>\n",
       "      <td>9811</td>\n",
       "      <td>1974</td>\n",
       "      <td>Drama,Crime, In the continuing saga of the Cor...</td>\n",
       "    </tr>\n",
       "  </tbody>\n",
       "</table>\n",
       "</div>"
      ],
      "text/plain": [
       "      id                        title                 genre original_language  \\\n",
       "0    278     The Shawshank Redemption           Drama,Crime                en   \n",
       "1  19404  Dilwale Dulhania Le Jayenge  Comedy,Drama,Romance                hi   \n",
       "2    238                The Godfather           Drama,Crime                en   \n",
       "3    424             Schindler's List     Drama,History,War                en   \n",
       "4    240       The Godfather: Part II           Drama,Crime                en   \n",
       "\n",
       "                                            overview  popularity release_date  \\\n",
       "0  Framed in the 1940s for the double murder of h...      94.075   1994-09-23   \n",
       "1  Raj is a rich, carefree, happy-go-lucky second...      25.408   1995-10-19   \n",
       "2  Spanning the years 1945 to 1955, a chronicle o...      90.585   1972-03-14   \n",
       "3  The true story of how businessman Oskar Schind...      44.761   1993-12-15   \n",
       "4  In the continuing saga of the Corleone crime f...      57.749   1974-12-20   \n",
       "\n",
       "   vote_average  vote_count  release_year  \\\n",
       "0           8.7       21862          1994   \n",
       "1           8.7        3731          1995   \n",
       "2           8.7       16280          1972   \n",
       "3           8.6       12959          1993   \n",
       "4           8.6        9811          1974   \n",
       "\n",
       "                                                tags  \n",
       "0  Drama,Crime, Framed in the 1940s for the doubl...  \n",
       "1  Comedy,Drama,Romance, Raj is a rich, carefree,...  \n",
       "2  Drama,Crime, Spanning the years 1945 to 1955, ...  \n",
       "3  Drama,History,War, The true story of how busin...  \n",
       "4  Drama,Crime, In the continuing saga of the Cor...  "
      ]
     },
     "execution_count": 179,
     "metadata": {},
     "output_type": "execute_result"
    }
   ],
   "source": [
    "df.head()"
   ]
  },
  {
   "cell_type": "markdown",
   "id": "f72c804d-3fe6-443f-a4c8-f0ed6feb97fb",
   "metadata": {},
   "source": [
    "## Final dataset"
   ]
  },
  {
   "cell_type": "code",
   "execution_count": 180,
   "id": "b0a9bb7e-98f7-4477-89c8-610cdbb6aa5f",
   "metadata": {},
   "outputs": [
    {
     "data": {
      "text/html": [
       "<div>\n",
       "<style scoped>\n",
       "    .dataframe tbody tr th:only-of-type {\n",
       "        vertical-align: middle;\n",
       "    }\n",
       "\n",
       "    .dataframe tbody tr th {\n",
       "        vertical-align: top;\n",
       "    }\n",
       "\n",
       "    .dataframe thead th {\n",
       "        text-align: right;\n",
       "    }\n",
       "</style>\n",
       "<table border=\"1\" class=\"dataframe\">\n",
       "  <thead>\n",
       "    <tr style=\"text-align: right;\">\n",
       "      <th></th>\n",
       "      <th>id</th>\n",
       "      <th>title</th>\n",
       "      <th>tags</th>\n",
       "    </tr>\n",
       "  </thead>\n",
       "  <tbody>\n",
       "    <tr>\n",
       "      <th>0</th>\n",
       "      <td>278</td>\n",
       "      <td>The Shawshank Redemption</td>\n",
       "      <td>Drama,Crime, Framed in the 1940s for the doubl...</td>\n",
       "    </tr>\n",
       "    <tr>\n",
       "      <th>1</th>\n",
       "      <td>19404</td>\n",
       "      <td>Dilwale Dulhania Le Jayenge</td>\n",
       "      <td>Comedy,Drama,Romance, Raj is a rich, carefree,...</td>\n",
       "    </tr>\n",
       "    <tr>\n",
       "      <th>2</th>\n",
       "      <td>238</td>\n",
       "      <td>The Godfather</td>\n",
       "      <td>Drama,Crime, Spanning the years 1945 to 1955, ...</td>\n",
       "    </tr>\n",
       "    <tr>\n",
       "      <th>3</th>\n",
       "      <td>424</td>\n",
       "      <td>Schindler's List</td>\n",
       "      <td>Drama,History,War, The true story of how busin...</td>\n",
       "    </tr>\n",
       "    <tr>\n",
       "      <th>4</th>\n",
       "      <td>240</td>\n",
       "      <td>The Godfather: Part II</td>\n",
       "      <td>Drama,Crime, In the continuing saga of the Cor...</td>\n",
       "    </tr>\n",
       "  </tbody>\n",
       "</table>\n",
       "</div>"
      ],
      "text/plain": [
       "      id                        title  \\\n",
       "0    278     The Shawshank Redemption   \n",
       "1  19404  Dilwale Dulhania Le Jayenge   \n",
       "2    238                The Godfather   \n",
       "3    424             Schindler's List   \n",
       "4    240       The Godfather: Part II   \n",
       "\n",
       "                                                tags  \n",
       "0  Drama,Crime, Framed in the 1940s for the doubl...  \n",
       "1  Comedy,Drama,Romance, Raj is a rich, carefree,...  \n",
       "2  Drama,Crime, Spanning the years 1945 to 1955, ...  \n",
       "3  Drama,History,War, The true story of how busin...  \n",
       "4  Drama,Crime, In the continuing saga of the Cor...  "
      ]
     },
     "execution_count": 180,
     "metadata": {},
     "output_type": "execute_result"
    }
   ],
   "source": [
    "df_movies = df[['id','title','tags']]\n",
    "\n",
    "df_movies.head()"
   ]
  },
  {
   "cell_type": "markdown",
   "id": "e9fda969-bf4d-46bd-9e0a-de928eda2801",
   "metadata": {},
   "source": [
    "## Converting Final dataset into CSV"
   ]
  },
  {
   "cell_type": "code",
   "execution_count": 191,
   "id": "b2ca0e65-5dbd-43cc-b9a2-52b696931569",
   "metadata": {},
   "outputs": [],
   "source": [
    "df_movies.to_csv(\"2_movies_dataset.csv\",index=False)"
   ]
  }
 ],
 "metadata": {
  "kernelspec": {
   "display_name": "Python 3 (ipykernel)",
   "language": "python",
   "name": "python3"
  },
  "language_info": {
   "codemirror_mode": {
    "name": "ipython",
    "version": 3
   },
   "file_extension": ".py",
   "mimetype": "text/x-python",
   "name": "python",
   "nbconvert_exporter": "python",
   "pygments_lexer": "ipython3",
   "version": "3.12.3"
  }
 },
 "nbformat": 4,
 "nbformat_minor": 5
}
